{
 "cells": [
  {
   "cell_type": "markdown",
   "metadata": {},
   "source": [
    "# BDAT1004PS2 \n",
    "## Kenta Shirakura #200206054"
   ]
  },
  {
   "cell_type": "markdown",
   "metadata": {},
   "source": [
    "## Question 1\n",
    "### Consider the following Python module:"
   ]
  },
  {
   "cell_type": "code",
   "execution_count": 9,
   "metadata": {},
   "outputs": [
    {
     "data": {
      "text/plain": [
       "6"
      ]
     },
     "execution_count": 9,
     "metadata": {},
     "output_type": "execute_result"
    }
   ],
   "source": [
    "a = 0\n",
    "def b ():\n",
    "    global a\n",
    "    a = c(a)\n",
    "\n",
    "def c(a):\n",
    "    return a + 2\n",
    "\n",
    "b()\n",
    "b()\n",
    "b()\n",
    "a"
   ]
  },
  {
   "cell_type": "markdown",
   "metadata": {},
   "source": [
    "## Answer \n",
    "The last expression is evaluated and prints out 6 because\n",
    "\n",
    "We defined inside the function b() that a is a global scope.\n",
    "\n",
    "That means whatever is calcurated within the function b() becomes global scope, therefore:\n",
    "\n",
    "### 1st b() = c(a) = a + 2 = 0 + 2, now a = 2\n",
    "### 2nd b() same principle, a = 4\n",
    "### 3rd b() again, a = 6"
   ]
  },
  {
   "cell_type": "markdown",
   "metadata": {},
   "source": [
    "## Question 2\n",
    "### Function fileLength(), given to you, takes the name of a file as input returns the length of the file.\n",
    "### As shonw above, if the file cannot be found by the interpreter or if it cannot be read as a text file, an exception wil be raised. Modify function fileLength() so that a friendly message is printed instead:"
   ]
  },
  {
   "cell_type": "code",
   "execution_count": 15,
   "metadata": {},
   "outputs": [],
   "source": [
    "#My answer below\n",
    "def file_length(file_name):\n",
    "    try:\n",
    "        file = open(file_name)\n",
    "        contents = file.read()\n",
    "        file.close()\n",
    "        print(len(contents))\n",
    "    except FileNotFoundError:\n",
    "        print('File {} is not found.'.format(file_name))"
   ]
  },
  {
   "cell_type": "code",
   "execution_count": 17,
   "metadata": {},
   "outputs": [
    {
     "name": "stdout",
     "output_type": "stream",
     "text": [
      "File example.txt is not found.\n"
     ]
    }
   ],
   "source": [
    "file_length('example.txt')"
   ]
  },
  {
   "cell_type": "markdown",
   "metadata": {},
   "source": [
    "## Question 3\n",
    "### Write a class named Marsupial that can be used as shown below:\n",
    "\n",
    "m = Marsupial()\n",
    "\n",
    "m.put_in_pouch('doll')\n",
    "\n",
    "m.put_in_pouch('firetruck')\n",
    "\n",
    "m.put_in_pouch('kitten')\n",
    "\n",
    "m.pouch_contents()\n",
    "\n",
    "['doll', 'firetruck', 'kitten']\n",
    "\n",
    "#### Then write a class named Kangaroo as a subclass of MArsupial that inherits all the attributes of Marsupial and also:\n",
    "    a. extends the Marsupial __init__ constructor to take, as input, the coordinates x and y of the Kangaroo object,\n",
    "    b. supports method jump that takes number values dx and dy as input and moves kangaroo by dx units along the x axis and by dy units along the y-axis, and\n",
    "    c. overloads the __str__ operator so it behaves as shown below.\n",
    "    \n",
    "k = Kangaroo(0,0)\n",
    "\n",
    "print(k)\n",
    "\n",
    "I am a Kangaroo located at coordinates (0,0)\n",
    "\n",
    "k.put_in_pouch('doll')\n",
    "\n",
    "k.put_in_pouch('firetruck')\n",
    "\n",
    "k.put_in_pouch('kitten')\n",
    "\n",
    "k.pouch.contents()\n",
    "\n",
    "['doll', 'firetruck', 'kitten']\n",
    "\n",
    "k.jump(1,0)\n",
    "\n",
    "k.jump(1,0)\n",
    "\n",
    "k.jump(1,0)\n",
    "\n",
    "print(k)\n",
    "I am a Kangaroo located at coordinates (3,0)\n",
    "\n",
    "\n",
    "    \n"
   ]
  },
  {
   "cell_type": "code",
   "execution_count": 173,
   "metadata": {},
   "outputs": [],
   "source": [
    "#Answer in next three cells\n",
    "\n",
    "class Marsupial:\n",
    "    \n",
    "    def __init__(self):\n",
    "        self.pouch = []\n",
    "             \n",
    "    def put_in_pouch(self, name):\n",
    "        self.pouch.append(name)\n",
    "        \n",
    "    def pouch_contents(self):\n",
    "        print(self.pouch)  \n",
    "                \n",
    "class Kangaroo(Marsupial):\n",
    "    \n",
    "    def __init__(self, xcoord, ycoord):\n",
    "        self.x = xcoord\n",
    "        self.y = ycoord\n",
    "        Marsupial.__init__(self)  #calling the Marsupial method as extention\n",
    "        self.pouch = []\n",
    "        \n",
    "    def get(self):\n",
    "        return (self.x, self.y)\n",
    "                \n",
    "    def jump(self, dx, dy):\n",
    "        self.x += dx\n",
    "        self.y += dy\n",
    "          \n",
    "    def __str__(self):\n",
    "        return 'I am a Kangaroo located at coordinates({}, {})'.format(self.x, self.y)    "
   ]
  },
  {
   "cell_type": "code",
   "execution_count": 172,
   "metadata": {},
   "outputs": [
    {
     "name": "stdout",
     "output_type": "stream",
     "text": [
      "['doll', 'firetruck', 'kitten']\n"
     ]
    }
   ],
   "source": [
    "m = Marsupial()\n",
    "m.put_in_pouch('doll')\n",
    "m.put_in_pouch('firetruck')\n",
    "m.put_in_pouch('kitten')\n",
    "m.pouch_contents()"
   ]
  },
  {
   "cell_type": "code",
   "execution_count": 170,
   "metadata": {},
   "outputs": [
    {
     "name": "stdout",
     "output_type": "stream",
     "text": [
      "I am a Kangaroo located at coordinates(0, 0)\n",
      "['doll', 'firetruck', 'kitten']\n",
      "I am a Kangaroo located at coordinates(3, 0)\n"
     ]
    }
   ],
   "source": [
    "k = Kangaroo(0,0)\n",
    "print(k)\n",
    "k.put_in_pouch('doll')\n",
    "k.put_in_pouch('firetruck')\n",
    "k.put_in_pouch('kitten')\n",
    "k.pouch_contents()\n",
    "k.jump(1,0)\n",
    "k.jump(1,0)\n",
    "k.jump(1,0)\n",
    "print(k)"
   ]
  },
  {
   "cell_type": "markdown",
   "metadata": {},
   "source": [
    "## Question 4\n",
    "### Write function collatz() that takes a positive integer x as input and prints the Collatz sequence starting at x.A Collatz sequnce is obtained by repeatedly applying this rule to the previous number x in the sequence\n",
    "#### The function should stop when the sequence gets to number 1. The function must be recursive, no loops."
   ]
  },
  {
   "cell_type": "code",
   "execution_count": 221,
   "metadata": {},
   "outputs": [
    {
     "name": "stdout",
     "output_type": "stream",
     "text": [
      "10\n",
      "16.0\n",
      "8.0\n",
      "4.0\n",
      "2.0\n",
      "1.0\n"
     ]
    }
   ],
   "source": [
    "#My function below\n",
    "def Collatz(n):\n",
    "    if n == 1:\n",
    "        print(n)\n",
    "    \n",
    "    elif n%2 == 0:\n",
    "        print(n)\n",
    "        Collatz(n/2)\n",
    "        \n",
    "    else:\n",
    "        Collatz((3 * n + 1))\n",
    "            \n",
    "Collatz(10)"
   ]
  },
  {
   "cell_type": "markdown",
   "metadata": {},
   "source": [
    "## Question 5\n",
    "### Write a recursive method binary() that takes a non-negative integer n and prints the binary of interger n."
   ]
  },
  {
   "cell_type": "code",
   "execution_count": 260,
   "metadata": {},
   "outputs": [
    {
     "name": "stdout",
     "output_type": "stream",
     "text": [
      "101"
     ]
    }
   ],
   "source": [
    "#Answer below\n",
    "def binary(n):\n",
    "    if n == 0:\n",
    "        return n\n",
    "    \n",
    "    elif n >= 1:\n",
    "        binary(n // 2)\n",
    "        print (n % 2,end='')\n",
    "        \n",
    "    else:\n",
    "        print('It has to be a non-negative integer')\n",
    "    \n",
    "        \n",
    "binary(5)"
   ]
  },
  {
   "cell_type": "markdown",
   "metadata": {},
   "source": [
    "## Question 6\n",
    "### Implement a class named HeadingParser that can be used to parse an HTML document, and retrieve and print all the headings in the document. The class should be implemented as a subclass of HTMLParser, defined in Standard Library module html.parser. When string containing HTML code is fed, the class should print the headings, one per line and in the order in which they appear in the document. Each heading should be indented the following way:\n",
    " 1. h1 heading should have indentation 0\n",
    " 2. h2 heading should have indentation 1\n",
    " ...continue"
   ]
  },
  {
   "cell_type": "code",
   "execution_count": 96,
   "metadata": {},
   "outputs": [],
   "source": [
    "#Answer to question 6\n",
    "#Referenced comment from stack overflow\n",
    "#url link: https://stackoverflow.com/questions/8486922/python-and-htmlparser-handle-data-how-to-get-data-from-tags\n",
    "\n",
    "from html.parser import HTMLParser\n",
    "class HeadingParser(HTMLParser):\n",
    "      \n",
    "    def __init__(self):\n",
    "        HTMLParser.__init__(self)\n",
    "        self.tagh1 = True or False       #Created a tagh1 attribute which identifies if condition is True or False\n",
    "    \n",
    "    def handle_starttag(self, tag, attrs):\n",
    "        if tag == \"h1\":\n",
    "            self.tagh1 == True           #if the tag is h1, the attribute is True\n",
    "            \n",
    "    def handle_data(self, data):\n",
    "        if self.tagh1 == True:           #if the condition is met, prints out the data after the tag h1\n",
    "            print(data)\n",
    "\n",
    "                    \n",
    "                    \n",
    "                    \n",
    "            \n",
    "            "
   ]
  },
  {
   "cell_type": "code",
   "execution_count": 94,
   "metadata": {},
   "outputs": [
    {
     "name": "stdout",
     "output_type": "stream",
     "text": [
      " \n",
      " \n",
      "W\n",
      " \n",
      "\n",
      "\n",
      "\n",
      "\n",
      "W\n",
      "\n",
      "\n",
      "\n",
      "\n",
      "\n",
      "\n",
      "\n",
      "\n",
      "P\n",
      "\n",
      "\n",
      "\n",
      "\n",
      "W\n",
      "\n",
      "\n",
      "W\n",
      "\n",
      "\n",
      "\n",
      "\n",
      "W\n",
      ".\n",
      "\n",
      "\n"
     ]
    }
   ],
   "source": [
    "infile = open('w3c.html') \n",
    "content = infile.read() \n",
    "infile.close()\n",
    "#print(content)\n",
    "headingparser = HeadingParser()\n",
    "headingparser.feed(content)"
   ]
  },
  {
   "cell_type": "markdown",
   "metadata": {},
   "source": [
    "#### Comment for the attempt for question 6\n",
    "I failed to reference the location of the header and print out the lines.\n",
    "\n",
    "I tried to reference the location of the \"data\" = header by creating the True or False attribute and match them, but in the end, I could not reference the location of the data with the tag using this method."
   ]
  },
  {
   "cell_type": "markdown",
   "metadata": {},
   "source": [
    "## Question 7\n",
    "### Implement recursive function webdir() that takes as input: a URL (as a string) and non-negative integers depth and indent. The function should visit every web page reachable from the starting URL web page in depth clicks or less, and print each web page's URL. Indentation should be used to indicate the depth of a URL specified by indent."
   ]
  },
  {
   "cell_type": "code",
   "execution_count": 7,
   "metadata": {},
   "outputs": [],
   "source": [
    "#Referenced from class wk6 webcrawler\n",
    "#implementing a class Collector and a function analyze\n",
    "\n",
    "from urllib.request import urlopen\n",
    "from urllib.parse import urljoin\n",
    "from html.parser import HTMLParser\n",
    "\n",
    "class Collector(HTMLParser): #collects hyperlink URLs into a list\n",
    "\n",
    "    global counter \n",
    "       \n",
    "    def __init__(self, url):\n",
    "        HTMLParser.__init__(self)          # initializes parser, the url, and a list\n",
    "        self.url = url\n",
    "        self.links = []\n",
    "        self.counter = 0\n",
    "        \n",
    "    def handle_starttag(self, tag, attrs):\n",
    "        if tag == 'a':                     # collects hyperlink URLs in their absolute format\n",
    "            for attr in attrs:\n",
    "                if attr[0] == 'href':\n",
    "                    absolute = urljoin(self.url, attr[1])   # construct absolute URL\n",
    "                    if absolute[:4] == 'http': # collect HTTP URLs\n",
    "                        self.links.append(absolute)\n",
    "                        self.counter += 1                        \n",
    "                        \n",
    "    def getLinks(self):                    # inserts hyperlinks URLs into list, \"links\"\n",
    "        return self.links\n",
    "\n",
    "def webdir(url, depth, indent):\n",
    "    \n",
    "    global counter\n",
    "    \n",
    "    while Collector.counter < depth:\n",
    "        content = urlopen(url).read().decode() \n",
    "        collector = Collector(url)             # obtain links in the web page\n",
    "        collector.feed(content)\n",
    "        urls = collector.getLinks() # This gets the list of links\n",
    "        \n",
    "    for link in urls:  # print the http links found in web page with indentation\n",
    "        print('{} {}'.format(' '*indent, link))\n"
   ]
  },
  {
   "cell_type": "code",
   "execution_count": 8,
   "metadata": {},
   "outputs": [
    {
     "ename": "AttributeError",
     "evalue": "type object 'Collector' has no attribute 'counter'",
     "output_type": "error",
     "traceback": [
      "\u001b[1;31m---------------------------------------------------------------------------\u001b[0m",
      "\u001b[1;31mAttributeError\u001b[0m                            Traceback (most recent call last)",
      "\u001b[1;32m<ipython-input-8-761d1c66672b>\u001b[0m in \u001b[0;36m<module>\u001b[1;34m\u001b[0m\n\u001b[1;32m----> 1\u001b[1;33m \u001b[0mwebdir\u001b[0m\u001b[1;33m(\u001b[0m\u001b[1;34m'https://www.w3.org/Consortium/mission.html'\u001b[0m\u001b[1;33m,\u001b[0m \u001b[1;36m2\u001b[0m\u001b[1;33m,\u001b[0m \u001b[1;36m5\u001b[0m\u001b[1;33m)\u001b[0m\u001b[1;33m\u001b[0m\u001b[1;33m\u001b[0m\u001b[0m\n\u001b[0m",
      "\u001b[1;32m<ipython-input-7-a5961f19caaf>\u001b[0m in \u001b[0;36mwebdir\u001b[1;34m(url, depth, indent)\u001b[0m\n\u001b[0;32m     32\u001b[0m     \u001b[1;32mglobal\u001b[0m \u001b[0mcounter\u001b[0m\u001b[1;33m\u001b[0m\u001b[1;33m\u001b[0m\u001b[0m\n\u001b[0;32m     33\u001b[0m \u001b[1;33m\u001b[0m\u001b[0m\n\u001b[1;32m---> 34\u001b[1;33m     \u001b[1;32mwhile\u001b[0m \u001b[0mCollector\u001b[0m\u001b[1;33m.\u001b[0m\u001b[0mcounter\u001b[0m \u001b[1;33m<\u001b[0m \u001b[0mdepth\u001b[0m\u001b[1;33m:\u001b[0m\u001b[1;33m\u001b[0m\u001b[1;33m\u001b[0m\u001b[0m\n\u001b[0m\u001b[0;32m     35\u001b[0m         \u001b[0mcontent\u001b[0m \u001b[1;33m=\u001b[0m \u001b[0murlopen\u001b[0m\u001b[1;33m(\u001b[0m\u001b[0murl\u001b[0m\u001b[1;33m)\u001b[0m\u001b[1;33m.\u001b[0m\u001b[0mread\u001b[0m\u001b[1;33m(\u001b[0m\u001b[1;33m)\u001b[0m\u001b[1;33m.\u001b[0m\u001b[0mdecode\u001b[0m\u001b[1;33m(\u001b[0m\u001b[1;33m)\u001b[0m\u001b[1;33m\u001b[0m\u001b[1;33m\u001b[0m\u001b[0m\n\u001b[0;32m     36\u001b[0m         \u001b[0mcollector\u001b[0m \u001b[1;33m=\u001b[0m \u001b[0mCollector\u001b[0m\u001b[1;33m(\u001b[0m\u001b[0murl\u001b[0m\u001b[1;33m)\u001b[0m             \u001b[1;31m# obtain links in the web page\u001b[0m\u001b[1;33m\u001b[0m\u001b[1;33m\u001b[0m\u001b[0m\n",
      "\u001b[1;31mAttributeError\u001b[0m: type object 'Collector' has no attribute 'counter'"
     ]
    }
   ],
   "source": [
    "webdir('https://www.w3.org/Consortium/mission.html', 2, 5)"
   ]
  },
  {
   "cell_type": "markdown",
   "metadata": {},
   "source": [
    "#### Comment for the attempt for question 7\n",
    "I failed to stop the collection of the links after the count of the click(depth).\n",
    "\n",
    "I tried to implement a counter within the class, and to add number to the counter each time the link is collected, and to end the recursion after the count of depth, but \"counter\" was not callable in webdir function."
   ]
  },
  {
   "cell_type": "markdown",
   "metadata": {},
   "source": [
    "## Question 8\n",
    "### Write SQL queries on the below database table that return:\n",
    "    a) All the temperature data.\n",
    "    b) All the cities, but without repetition.\n",
    "    c) All the records for India.\n",
    "    d) All the Fall records.\n",
    "    e) The city, country, and season for which the average rainfall is between 200 and millimeters.\n",
    "    f) The city and country for which the averaage Fall temperature is above 20 degrees, in increasing temperature order.\n",
    "    g) The total annual rainfall for Cairo.\n",
    "    h) The total rainfall for each season.\n",
    "    \n",
    "#### The database\n",
    "\n",
    "City \tCountry \tSeason \tTemperature (C) \tRainfall (mm)\n",
    "Mumbai \tIndia \tWinter \t24.8 \t5.9 \n",
    "Mumbai \tIndia \tSpring \t28.4 \t16.2 \n",
    "Mumbai \tIndia \tSummer \t27.9 \t1549.4 \n",
    "Mumbai \tIndia \tFall \t27.6 \t346.0 \n",
    "London \tUnited Kingdom \tWinter \t4.2 \t207.7 \n",
    "London \tUnited Kingdom \tSpring \t8.3 \t169.6 \n",
    "London \tUnited Kingdom \tSummer \t15.7 \t157.0 \n",
    "London \tUnited Kingdom \tFall \t10.4 \t218.5 \n",
    "Cairo \tEgypt \tWinter \t13.6 \t16.5 \n",
    "Cairo \tEgypt \tSpring \t20.7 \t6.5 \n",
    "Cairo \tEgypt \tSummer \t27.7 \t0.1 \n",
    "Cairo \tEgypt \tFall \t22.2 \t4.5 \n",
    "\n"
   ]
  },
  {
   "cell_type": "code",
   "execution_count": 263,
   "metadata": {},
   "outputs": [
    {
     "name": "stdout",
     "output_type": "stream",
     "text": [
      "Requirement already satisfied: ipython-sql in c:\\users\\k.shirakura\\anaconda3\\lib\\site-packages (0.4.0)\n",
      "Requirement already satisfied: six in c:\\users\\k.shirakura\\anaconda3\\lib\\site-packages (from ipython-sql) (1.15.0)\n",
      "Requirement already satisfied: sqlparse in c:\\users\\k.shirakura\\anaconda3\\lib\\site-packages (from ipython-sql) (0.4.1)\n",
      "Processing c:\\users\\k.shirakura\\appdata\\local\\pip\\cache\\wheels\\46\\60\\6c\\bb25d05df22906786206e901e9354bb3061061191116768bee\\prettytable-0.7.2-py3-none-any.whl\n",
      "Requirement already satisfied: sqlalchemy>=0.6.7 in c:\\users\\k.shirakura\\anaconda3\\lib\\site-packages (from ipython-sql) (1.3.20)\n",
      "Requirement already satisfied: ipython>=1.0 in c:\\users\\k.shirakura\\anaconda3\\lib\\site-packages (from ipython-sql) (7.19.0)\n",
      "Requirement already satisfied: ipython-genutils>=0.1.0 in c:\\users\\k.shirakura\\anaconda3\\lib\\site-packages (from ipython-sql) (0.2.0)\n",
      "Requirement already satisfied: setuptools>=18.5 in c:\\users\\k.shirakura\\anaconda3\\lib\\site-packages (from ipython>=1.0->ipython-sql) (50.3.1.post20201107)\n",
      "Requirement already satisfied: jedi>=0.10 in c:\\users\\k.shirakura\\anaconda3\\lib\\site-packages (from ipython>=1.0->ipython-sql) (0.17.1)\n",
      "Requirement already satisfied: decorator in c:\\users\\k.shirakura\\anaconda3\\lib\\site-packages (from ipython>=1.0->ipython-sql) (4.4.2)\n",
      "Requirement already satisfied: prompt-toolkit!=3.0.0,!=3.0.1,<3.1.0,>=2.0.0 in c:\\users\\k.shirakura\\anaconda3\\lib\\site-packages (from ipython>=1.0->ipython-sql) (3.0.8)\n",
      "Requirement already satisfied: traitlets>=4.2 in c:\\users\\k.shirakura\\anaconda3\\lib\\site-packages (from ipython>=1.0->ipython-sql) (5.0.5)\n",
      "Requirement already satisfied: colorama; sys_platform == \"win32\" in c:\\users\\k.shirakura\\anaconda3\\lib\\site-packages (from ipython>=1.0->ipython-sql) (0.4.4)\n",
      "Requirement already satisfied: pygments in c:\\users\\k.shirakura\\anaconda3\\lib\\site-packages (from ipython>=1.0->ipython-sql) (2.7.2)\n",
      "Requirement already satisfied: backcall in c:\\users\\k.shirakura\\anaconda3\\lib\\site-packages (from ipython>=1.0->ipython-sql) (0.2.0)\n",
      "Requirement already satisfied: pickleshare in c:\\users\\k.shirakura\\anaconda3\\lib\\site-packages (from ipython>=1.0->ipython-sql) (0.7.5)\n",
      "Requirement already satisfied: parso<0.8.0,>=0.7.0 in c:\\users\\k.shirakura\\anaconda3\\lib\\site-packages (from jedi>=0.10->ipython>=1.0->ipython-sql) (0.7.0)\n",
      "Requirement already satisfied: wcwidth in c:\\users\\k.shirakura\\anaconda3\\lib\\site-packages (from prompt-toolkit!=3.0.0,!=3.0.1,<3.1.0,>=2.0.0->ipython>=1.0->ipython-sql) (0.2.5)\n",
      "Installing collected packages: prettytable\n",
      "  Attempting uninstall: prettytable\n",
      "    Found existing installation: prettytable 2.0.0\n",
      "    Uninstalling prettytable-2.0.0:\n",
      "      Successfully uninstalled prettytable-2.0.0\n",
      "Successfully installed prettytable-0.7.2\n"
     ]
    }
   ],
   "source": [
    " !pip install ipython-sql"
   ]
  },
  {
   "cell_type": "code",
   "execution_count": 266,
   "metadata": {},
   "outputs": [
    {
     "name": "stdout",
     "output_type": "stream",
     "text": [
      "The sql extension is already loaded. To reload it, use:\n",
      "  %reload_ext sql\n"
     ]
    }
   ],
   "source": [
    "%load_ext sql "
   ]
  },
  {
   "cell_type": "code",
   "execution_count": 272,
   "metadata": {},
   "outputs": [
    {
     "name": "stdout",
     "output_type": "stream",
     "text": [
      " * sqlite://\n",
      "1 rows affected.\n",
      "1 rows affected.\n",
      "1 rows affected.\n",
      "1 rows affected.\n",
      "1 rows affected.\n",
      "1 rows affected.\n",
      "1 rows affected.\n",
      "1 rows affected.\n",
      "1 rows affected.\n",
      "1 rows affected.\n",
      "1 rows affected.\n",
      "1 rows affected.\n"
     ]
    },
    {
     "data": {
      "text/plain": [
       "[]"
      ]
     },
     "execution_count": 272,
     "metadata": {},
     "output_type": "execute_result"
    }
   ],
   "source": [
    "%%sql\n",
    "CREATE TABLE Data(City,Country,Season,Temperature C,Rainfall mm);\n",
    "INSERT INTO Data VALUES('Mumbai','India','Winter','24.8','5.9');\n",
    "INSERT INTO Data VALUES('Mumbai','India','Spring','28.4','16.2');\n",
    "INSERT INTO Data VALUES('Mumbai','India','Summer','27.9','1549.4');\n",
    "INSERT INTO Data VALUES('Mumbai','India','Fall','27.6','346.0');\n",
    "INSERT INTO Data VALUES('London','United Kingdom','Winter','4.2','207.7');\n",
    "INSERT INTO Data VALUES('London','United Kingdom','Spring','8.3','169.6');\n",
    "INSERT INTO Data VALUES('London','United Kingdom','Summer','15.7','157.0');\n",
    "INSERT INTO Data VALUES('LOndon','United Kingdom','Fall','10.4','218.5');\n",
    "INSERT INTO Data VALUES('Cairo','Egypt','Winter','13.6','16.5');\n",
    "INSERT INTO Data VALUES('Cairo','Egypt','Spring','20.7','6.5');\n",
    "INSERT INTO Data VALUES('Cairo','Egypt','Summer','27.7','0.1');\n",
    "INSERT INTO Data VALUES('Cairo','Egypt','Fall','22.2','4.5');"
   ]
  },
  {
   "cell_type": "code",
   "execution_count": 290,
   "metadata": {},
   "outputs": [
    {
     "name": "stdout",
     "output_type": "stream",
     "text": [
      " * sqlite://\n",
      "Done.\n"
     ]
    },
    {
     "data": {
      "text/html": [
       "<table>\n",
       "    <tr>\n",
       "        <th>Temperature</th>\n",
       "    </tr>\n",
       "    <tr>\n",
       "        <td>24.8</td>\n",
       "    </tr>\n",
       "    <tr>\n",
       "        <td>28.4</td>\n",
       "    </tr>\n",
       "    <tr>\n",
       "        <td>27.9</td>\n",
       "    </tr>\n",
       "    <tr>\n",
       "        <td>27.6</td>\n",
       "    </tr>\n",
       "    <tr>\n",
       "        <td>4.2</td>\n",
       "    </tr>\n",
       "    <tr>\n",
       "        <td>8.3</td>\n",
       "    </tr>\n",
       "    <tr>\n",
       "        <td>15.7</td>\n",
       "    </tr>\n",
       "    <tr>\n",
       "        <td>10.4</td>\n",
       "    </tr>\n",
       "    <tr>\n",
       "        <td>13.6</td>\n",
       "    </tr>\n",
       "    <tr>\n",
       "        <td>20.7</td>\n",
       "    </tr>\n",
       "    <tr>\n",
       "        <td>27.7</td>\n",
       "    </tr>\n",
       "    <tr>\n",
       "        <td>22.2</td>\n",
       "    </tr>\n",
       "</table>"
      ],
      "text/plain": [
       "[(24.8,),\n",
       " (28.4,),\n",
       " (27.9,),\n",
       " (27.6,),\n",
       " (4.2,),\n",
       " (8.3,),\n",
       " (15.7,),\n",
       " (10.4,),\n",
       " (13.6,),\n",
       " (20.7,),\n",
       " (27.7,),\n",
       " (22.2,)]"
      ]
     },
     "execution_count": 290,
     "metadata": {},
     "output_type": "execute_result"
    }
   ],
   "source": [
    "%%sql\n",
    "SELECT Temperature from Data "
   ]
  },
  {
   "cell_type": "code",
   "execution_count": 289,
   "metadata": {},
   "outputs": [
    {
     "name": "stdout",
     "output_type": "stream",
     "text": [
      " * sqlite://\n",
      "Done.\n"
     ]
    },
    {
     "data": {
      "text/html": [
       "<table>\n",
       "    <tr>\n",
       "        <th>City</th>\n",
       "    </tr>\n",
       "    <tr>\n",
       "        <td>Mumbai</td>\n",
       "    </tr>\n",
       "    <tr>\n",
       "        <td>London</td>\n",
       "    </tr>\n",
       "    <tr>\n",
       "        <td>Cairo</td>\n",
       "    </tr>\n",
       "</table>"
      ],
      "text/plain": [
       "[('Mumbai',), ('London',), ('Cairo',)]"
      ]
     },
     "execution_count": 289,
     "metadata": {},
     "output_type": "execute_result"
    }
   ],
   "source": [
    "%%sql\n",
    "SELECT DISTINCT City FROM Data "
   ]
  },
  {
   "cell_type": "code",
   "execution_count": 293,
   "metadata": {},
   "outputs": [
    {
     "name": "stdout",
     "output_type": "stream",
     "text": [
      " * sqlite://\n",
      "Done.\n"
     ]
    },
    {
     "data": {
      "text/html": [
       "<table>\n",
       "    <tr>\n",
       "        <th>City</th>\n",
       "        <th>Country</th>\n",
       "        <th>Season</th>\n",
       "        <th>Temperature</th>\n",
       "        <th>Rainfall</th>\n",
       "    </tr>\n",
       "    <tr>\n",
       "        <td>Mumbai</td>\n",
       "        <td>India</td>\n",
       "        <td>Winter</td>\n",
       "        <td>24.8</td>\n",
       "        <td>5.9</td>\n",
       "    </tr>\n",
       "    <tr>\n",
       "        <td>Mumbai</td>\n",
       "        <td>India</td>\n",
       "        <td>Spring</td>\n",
       "        <td>28.4</td>\n",
       "        <td>16.2</td>\n",
       "    </tr>\n",
       "    <tr>\n",
       "        <td>Mumbai</td>\n",
       "        <td>India</td>\n",
       "        <td>Summer</td>\n",
       "        <td>27.9</td>\n",
       "        <td>1549.4</td>\n",
       "    </tr>\n",
       "    <tr>\n",
       "        <td>Mumbai</td>\n",
       "        <td>India</td>\n",
       "        <td>Fall</td>\n",
       "        <td>27.6</td>\n",
       "        <td>346</td>\n",
       "    </tr>\n",
       "</table>"
      ],
      "text/plain": [
       "[('Mumbai', 'India', 'Winter', 24.8, 5.9),\n",
       " ('Mumbai', 'India', 'Spring', 28.4, 16.2),\n",
       " ('Mumbai', 'India', 'Summer', 27.9, 1549.4),\n",
       " ('Mumbai', 'India', 'Fall', 27.6, 346)]"
      ]
     },
     "execution_count": 293,
     "metadata": {},
     "output_type": "execute_result"
    }
   ],
   "source": [
    "%%sql\n",
    "SELECT * from Data where country = 'India'"
   ]
  },
  {
   "cell_type": "code",
   "execution_count": 294,
   "metadata": {},
   "outputs": [
    {
     "name": "stdout",
     "output_type": "stream",
     "text": [
      " * sqlite://\n",
      "Done.\n"
     ]
    },
    {
     "data": {
      "text/html": [
       "<table>\n",
       "    <tr>\n",
       "        <th>City</th>\n",
       "        <th>Country</th>\n",
       "        <th>Season</th>\n",
       "        <th>Temperature</th>\n",
       "        <th>Rainfall</th>\n",
       "    </tr>\n",
       "    <tr>\n",
       "        <td>Mumbai</td>\n",
       "        <td>India</td>\n",
       "        <td>Fall</td>\n",
       "        <td>27.6</td>\n",
       "        <td>346</td>\n",
       "    </tr>\n",
       "    <tr>\n",
       "        <td>London</td>\n",
       "        <td>United Kingdom</td>\n",
       "        <td>Fall</td>\n",
       "        <td>10.4</td>\n",
       "        <td>218.5</td>\n",
       "    </tr>\n",
       "    <tr>\n",
       "        <td>Cairo</td>\n",
       "        <td>Egypt</td>\n",
       "        <td>Fall</td>\n",
       "        <td>22.2</td>\n",
       "        <td>4.5</td>\n",
       "    </tr>\n",
       "</table>"
      ],
      "text/plain": [
       "[('Mumbai', 'India', 'Fall', 27.6, 346),\n",
       " ('London', 'United Kingdom', 'Fall', 10.4, 218.5),\n",
       " ('Cairo', 'Egypt', 'Fall', 22.2, 4.5)]"
      ]
     },
     "execution_count": 294,
     "metadata": {},
     "output_type": "execute_result"
    }
   ],
   "source": [
    "%%sql\n",
    "SELECT * from Data where Season = 'Fall'"
   ]
  },
  {
   "cell_type": "code",
   "execution_count": 298,
   "metadata": {},
   "outputs": [
    {
     "name": "stdout",
     "output_type": "stream",
     "text": [
      " * sqlite://\n",
      "Done.\n"
     ]
    },
    {
     "data": {
      "text/html": [
       "<table>\n",
       "    <tr>\n",
       "        <th>City</th>\n",
       "        <th>Country</th>\n",
       "        <th>Season</th>\n",
       "        <th>Rainfall</th>\n",
       "    </tr>\n",
       "    <tr>\n",
       "        <td>Mumbai</td>\n",
       "        <td>India</td>\n",
       "        <td>Fall</td>\n",
       "        <td>346</td>\n",
       "    </tr>\n",
       "    <tr>\n",
       "        <td>London</td>\n",
       "        <td>United Kingdom</td>\n",
       "        <td>Winter</td>\n",
       "        <td>207.7</td>\n",
       "    </tr>\n",
       "    <tr>\n",
       "        <td>London</td>\n",
       "        <td>United Kingdom</td>\n",
       "        <td>Fall</td>\n",
       "        <td>218.5</td>\n",
       "    </tr>\n",
       "</table>"
      ],
      "text/plain": [
       "[('Mumbai', 'India', 'Fall', 346),\n",
       " ('London', 'United Kingdom', 'Winter', 207.7),\n",
       " ('London', 'United Kingdom', 'Fall', 218.5)]"
      ]
     },
     "execution_count": 298,
     "metadata": {},
     "output_type": "execute_result"
    }
   ],
   "source": [
    "%%sql\n",
    "SELECT City, Country, Season, Rainfall from Data where Rainfall BETWEEN 200 AND 400"
   ]
  },
  {
   "cell_type": "code",
   "execution_count": 300,
   "metadata": {},
   "outputs": [
    {
     "name": "stdout",
     "output_type": "stream",
     "text": [
      " * sqlite://\n",
      "Done.\n"
     ]
    },
    {
     "data": {
      "text/html": [
       "<table>\n",
       "    <tr>\n",
       "        <th>City</th>\n",
       "        <th>Country</th>\n",
       "        <th>Temperature</th>\n",
       "    </tr>\n",
       "    <tr>\n",
       "        <td>Cairo</td>\n",
       "        <td>Egypt</td>\n",
       "        <td>20.7</td>\n",
       "    </tr>\n",
       "    <tr>\n",
       "        <td>Cairo</td>\n",
       "        <td>Egypt</td>\n",
       "        <td>22.2</td>\n",
       "    </tr>\n",
       "    <tr>\n",
       "        <td>Mumbai</td>\n",
       "        <td>India</td>\n",
       "        <td>24.8</td>\n",
       "    </tr>\n",
       "    <tr>\n",
       "        <td>Mumbai</td>\n",
       "        <td>India</td>\n",
       "        <td>27.6</td>\n",
       "    </tr>\n",
       "    <tr>\n",
       "        <td>Cairo</td>\n",
       "        <td>Egypt</td>\n",
       "        <td>27.7</td>\n",
       "    </tr>\n",
       "    <tr>\n",
       "        <td>Mumbai</td>\n",
       "        <td>India</td>\n",
       "        <td>27.9</td>\n",
       "    </tr>\n",
       "    <tr>\n",
       "        <td>Mumbai</td>\n",
       "        <td>India</td>\n",
       "        <td>28.4</td>\n",
       "    </tr>\n",
       "</table>"
      ],
      "text/plain": [
       "[('Cairo', 'Egypt', 20.7),\n",
       " ('Cairo', 'Egypt', 22.2),\n",
       " ('Mumbai', 'India', 24.8),\n",
       " ('Mumbai', 'India', 27.6),\n",
       " ('Cairo', 'Egypt', 27.7),\n",
       " ('Mumbai', 'India', 27.9),\n",
       " ('Mumbai', 'India', 28.4)]"
      ]
     },
     "execution_count": 300,
     "metadata": {},
     "output_type": "execute_result"
    }
   ],
   "source": [
    "%%sql\n",
    "SELECT City, Country, Temperature from Data where Temperature > 20 ORDER by Temperature"
   ]
  },
  {
   "cell_type": "code",
   "execution_count": 302,
   "metadata": {},
   "outputs": [
    {
     "name": "stdout",
     "output_type": "stream",
     "text": [
      " * sqlite://\n",
      "Done.\n"
     ]
    },
    {
     "data": {
      "text/html": [
       "<table>\n",
       "    <tr>\n",
       "        <th>City</th>\n",
       "        <th>SUM(Rainfall)</th>\n",
       "    </tr>\n",
       "    <tr>\n",
       "        <td>Cairo</td>\n",
       "        <td>27.6</td>\n",
       "    </tr>\n",
       "</table>"
      ],
      "text/plain": [
       "[('Cairo', 27.6)]"
      ]
     },
     "execution_count": 302,
     "metadata": {},
     "output_type": "execute_result"
    }
   ],
   "source": [
    "%%sql\n",
    "SELECT City, SUM(Rainfall) FROM Data where City = 'Cairo'"
   ]
  },
  {
   "cell_type": "code",
   "execution_count": 307,
   "metadata": {},
   "outputs": [
    {
     "name": "stdout",
     "output_type": "stream",
     "text": [
      " * sqlite://\n",
      "Done.\n"
     ]
    },
    {
     "data": {
      "text/html": [
       "<table>\n",
       "    <tr>\n",
       "        <th>Season</th>\n",
       "        <th>SUM(Rainfall)</th>\n",
       "    </tr>\n",
       "    <tr>\n",
       "        <td>Fall</td>\n",
       "        <td>569.0</td>\n",
       "    </tr>\n",
       "    <tr>\n",
       "        <td>Spring</td>\n",
       "        <td>192.29999999999998</td>\n",
       "    </tr>\n",
       "    <tr>\n",
       "        <td>Summer</td>\n",
       "        <td>1706.5</td>\n",
       "    </tr>\n",
       "    <tr>\n",
       "        <td>Winter</td>\n",
       "        <td>230.1</td>\n",
       "    </tr>\n",
       "</table>"
      ],
      "text/plain": [
       "[('Fall', 569.0),\n",
       " ('Spring', 192.29999999999998),\n",
       " ('Summer', 1706.5),\n",
       " ('Winter', 230.1)]"
      ]
     },
     "execution_count": 307,
     "metadata": {},
     "output_type": "execute_result"
    }
   ],
   "source": [
    "%%sql\n",
    "SELECT Season, SUM(Rainfall) from Data GROUP BY Season"
   ]
  },
  {
   "cell_type": "markdown",
   "metadata": {},
   "source": [
    "## Question 9\n",
    "### The list: words = ['The', 'quick', 'brown', 'fox', 'jumps', 'over', 'the', 'lazy', 'dog']\n",
    "### Write list comprehension expressions that use list words and generate the following\n",
    "    a) ['THE', 'QUICK', 'BROWN', 'FOX', 'JUMPS', 'OVER', 'THE', 'LAZY', 'DOG']\n",
    "    b) ['the', 'quick', 'brown', 'fox', 'jumps', 'over', 'the', 'lazy', 'dog']\n",
    "    c) [3, 5, 5, 3, 5, 4, 3, 4, 3] (the list of lengths of words in list words).\n",
    "    d) [['THE', 'the', 3], ['QUICK', 'quick', 5], ['BROWN', 'brown', 5], ['FOX', 'fox', 3], ['JUMPS', 'jumps', 5], ['OVER', 'over', 4], ['THE', 'the', 3], ['LAZY', 'lazy', 4], ['DOG', 'dog', 3]] (the list containing a list for every word of list words, where each list contains the word in uppercase and lowercase and the length of the word.)\n",
    "    e) ['The', 'quick', 'brown', 'fox', 'jumps', 'over', 'the', 'lazy', 'dog'] (the list of words in list words containing 4 or more characters.)"
   ]
  },
  {
   "cell_type": "code",
   "execution_count": 348,
   "metadata": {},
   "outputs": [
    {
     "name": "stdout",
     "output_type": "stream",
     "text": [
      "['The', 'quick', 'brown', 'fox', 'jumps', 'over', 'the', 'lazy', 'dog']\n"
     ]
    }
   ],
   "source": [
    "words = ['The', 'quick', 'brown', 'fox', 'jumps', 'over', 'the', 'lazy', 'dog']\n",
    "print(words)"
   ]
  },
  {
   "cell_type": "code",
   "execution_count": 358,
   "metadata": {},
   "outputs": [
    {
     "name": "stdout",
     "output_type": "stream",
     "text": [
      "The answer to a is ['THE', 'QUICK', 'BROWN', 'FOX', 'JUMPS', 'OVER', 'THE', 'LAZY', 'DOG']\n",
      "The answer to b is ['the', 'quick', 'brown', 'fox', 'jumps', 'over', 'the', 'lazy', 'dog']\n",
      "The answer to c is [3, 5, 5, 3, 5, 4, 3, 4, 3]\n",
      "The answer to d is [['THE', 'the', 3], ['QUICK', 'quick', 5], ['BROWN', 'brown', 5], ['FOX', 'fox', 3], ['JUMPS', 'jumps', 5], ['OVER', 'over', 4], ['THE', 'the', 3], ['LAZY', 'lazy', 4], ['DOG', 'dog', 3]]\n",
      "The answer to e is ['quick', 'brown', 'jumps', 'over', 'lazy']\n"
     ]
    }
   ],
   "source": [
    "#Answer to a\n",
    "a = []\n",
    "for i in words:\n",
    "    a.append(i.upper())\n",
    "print('The answer to a is {}'.format(a))\n",
    "\n",
    "#Answer to b\n",
    "b = []\n",
    "for j in words:\n",
    "    b.append(j.lower())\n",
    "print('The answer to b is {}'.format(b))\n",
    "\n",
    "#Answer to c\n",
    "c = []\n",
    "for k in words:\n",
    "    c.append(len(k))\n",
    "print('The answer to c is {}'.format(c))\n",
    "\n",
    "#Answer to d\n",
    "d = []\n",
    "for l in words:\n",
    "    addition = []\n",
    "    addition.append(l.upper())\n",
    "    addition.append(l.lower())\n",
    "    addition.append(len(l))\n",
    "    d.append(addition)\n",
    "print('The answer to d is {}'.format(d))\n",
    "\n",
    "#Answer to e\n",
    "e = []\n",
    "for m in words:\n",
    "    if len(m) > 3:\n",
    "        e.append(m)\n",
    "print('The answer to e is {}'.format(e))"
   ]
  }
 ],
 "metadata": {
  "kernelspec": {
   "display_name": "Python 3",
   "language": "python",
   "name": "python3"
  },
  "language_info": {
   "codemirror_mode": {
    "name": "ipython",
    "version": 3
   },
   "file_extension": ".py",
   "mimetype": "text/x-python",
   "name": "python",
   "nbconvert_exporter": "python",
   "pygments_lexer": "ipython3",
   "version": "3.8.5"
  }
 },
 "nbformat": 4,
 "nbformat_minor": 4
}
